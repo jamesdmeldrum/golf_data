{
 "cells": [
  {
   "attachments": {},
   "cell_type": "markdown",
   "metadata": {},
   "source": [
    "# Initial Exploration of Golf Dataset\n",
    "##### Purpose is to understand amount of missing data, required cleaning and basic distributions for each column."
   ]
  },
  {
   "attachments": {},
   "cell_type": "markdown",
   "metadata": {},
   "source": [
    "### Loading Packages"
   ]
  },
  {
   "cell_type": "code",
   "execution_count": 2,
   "metadata": {},
   "outputs": [],
   "source": [
    "import pandas as pd\n",
    "import numpy as np\n",
    "import matplotlib.pyplot as plt\n",
    "import seaborn as sns"
   ]
  },
  {
   "attachments": {},
   "cell_type": "markdown",
   "metadata": {},
   "source": [
    "### Loading Data"
   ]
  },
  {
   "cell_type": "code",
   "execution_count": 3,
   "metadata": {},
   "outputs": [
    {
     "data": {
      "text/html": [
       "<div>\n",
       "<style scoped>\n",
       "    .dataframe tbody tr th:only-of-type {\n",
       "        vertical-align: middle;\n",
       "    }\n",
       "\n",
       "    .dataframe tbody tr th {\n",
       "        vertical-align: top;\n",
       "    }\n",
       "\n",
       "    .dataframe thead th {\n",
       "        text-align: right;\n",
       "    }\n",
       "</style>\n",
       "<table border=\"1\" class=\"dataframe\">\n",
       "  <thead>\n",
       "    <tr style=\"text-align: right;\">\n",
       "      <th></th>\n",
       "      <th>Player_initial_last</th>\n",
       "      <th>tournament id</th>\n",
       "      <th>player id</th>\n",
       "      <th>hole_par</th>\n",
       "      <th>strokes</th>\n",
       "      <th>hole_DKP</th>\n",
       "      <th>hole_FDP</th>\n",
       "      <th>hole_SDP</th>\n",
       "      <th>streak_DKP</th>\n",
       "      <th>streak_FDP</th>\n",
       "      <th>...</th>\n",
       "      <th>purse</th>\n",
       "      <th>season</th>\n",
       "      <th>no_cut</th>\n",
       "      <th>Finish</th>\n",
       "      <th>sg_putt</th>\n",
       "      <th>sg_arg</th>\n",
       "      <th>sg_app</th>\n",
       "      <th>sg_ott</th>\n",
       "      <th>sg_t2g</th>\n",
       "      <th>sg_total</th>\n",
       "    </tr>\n",
       "  </thead>\n",
       "  <tbody>\n",
       "    <tr>\n",
       "      <th>0</th>\n",
       "      <td>A. Ancer</td>\n",
       "      <td>401353224</td>\n",
       "      <td>9261</td>\n",
       "      <td>288</td>\n",
       "      <td>289</td>\n",
       "      <td>60.0</td>\n",
       "      <td>51.1</td>\n",
       "      <td>56</td>\n",
       "      <td>3</td>\n",
       "      <td>7.6</td>\n",
       "      <td>...</td>\n",
       "      <td>12.0</td>\n",
       "      <td>2022</td>\n",
       "      <td>0</td>\n",
       "      <td>T32</td>\n",
       "      <td>0.20</td>\n",
       "      <td>-0.13</td>\n",
       "      <td>-0.08</td>\n",
       "      <td>0.86</td>\n",
       "      <td>0.65</td>\n",
       "      <td>0.85</td>\n",
       "    </tr>\n",
       "    <tr>\n",
       "      <th>1</th>\n",
       "      <td>A. Hadwin</td>\n",
       "      <td>401353224</td>\n",
       "      <td>5548</td>\n",
       "      <td>288</td>\n",
       "      <td>286</td>\n",
       "      <td>72.5</td>\n",
       "      <td>61.5</td>\n",
       "      <td>61</td>\n",
       "      <td>8</td>\n",
       "      <td>13.0</td>\n",
       "      <td>...</td>\n",
       "      <td>12.0</td>\n",
       "      <td>2022</td>\n",
       "      <td>0</td>\n",
       "      <td>T18</td>\n",
       "      <td>0.36</td>\n",
       "      <td>0.75</td>\n",
       "      <td>0.31</td>\n",
       "      <td>0.18</td>\n",
       "      <td>1.24</td>\n",
       "      <td>1.60</td>\n",
       "    </tr>\n",
       "    <tr>\n",
       "      <th>2</th>\n",
       "      <td>A. Lahiri</td>\n",
       "      <td>401353224</td>\n",
       "      <td>4989</td>\n",
       "      <td>144</td>\n",
       "      <td>147</td>\n",
       "      <td>21.5</td>\n",
       "      <td>17.4</td>\n",
       "      <td>27</td>\n",
       "      <td>0</td>\n",
       "      <td>0.0</td>\n",
       "      <td>...</td>\n",
       "      <td>12.0</td>\n",
       "      <td>2022</td>\n",
       "      <td>0</td>\n",
       "      <td>CUT</td>\n",
       "      <td>-0.56</td>\n",
       "      <td>0.74</td>\n",
       "      <td>-1.09</td>\n",
       "      <td>0.37</td>\n",
       "      <td>0.02</td>\n",
       "      <td>-0.54</td>\n",
       "    </tr>\n",
       "    <tr>\n",
       "      <th>3</th>\n",
       "      <td>A. Long</td>\n",
       "      <td>401353224</td>\n",
       "      <td>6015</td>\n",
       "      <td>144</td>\n",
       "      <td>151</td>\n",
       "      <td>20.5</td>\n",
       "      <td>13.6</td>\n",
       "      <td>17</td>\n",
       "      <td>0</td>\n",
       "      <td>0.4</td>\n",
       "      <td>...</td>\n",
       "      <td>12.0</td>\n",
       "      <td>2022</td>\n",
       "      <td>0</td>\n",
       "      <td>CUT</td>\n",
       "      <td>-1.46</td>\n",
       "      <td>-1.86</td>\n",
       "      <td>-0.02</td>\n",
       "      <td>0.80</td>\n",
       "      <td>-1.08</td>\n",
       "      <td>-2.54</td>\n",
       "    </tr>\n",
       "    <tr>\n",
       "      <th>4</th>\n",
       "      <td>A. Noren</td>\n",
       "      <td>401353224</td>\n",
       "      <td>3832</td>\n",
       "      <td>144</td>\n",
       "      <td>148</td>\n",
       "      <td>23.5</td>\n",
       "      <td>18.1</td>\n",
       "      <td>23</td>\n",
       "      <td>0</td>\n",
       "      <td>1.2</td>\n",
       "      <td>...</td>\n",
       "      <td>12.0</td>\n",
       "      <td>2022</td>\n",
       "      <td>0</td>\n",
       "      <td>CUT</td>\n",
       "      <td>0.53</td>\n",
       "      <td>-0.36</td>\n",
       "      <td>-1.39</td>\n",
       "      <td>0.19</td>\n",
       "      <td>-1.56</td>\n",
       "      <td>-1.04</td>\n",
       "    </tr>\n",
       "    <tr>\n",
       "      <th>...</th>\n",
       "      <td>...</td>\n",
       "      <td>...</td>\n",
       "      <td>...</td>\n",
       "      <td>...</td>\n",
       "      <td>...</td>\n",
       "      <td>...</td>\n",
       "      <td>...</td>\n",
       "      <td>...</td>\n",
       "      <td>...</td>\n",
       "      <td>...</td>\n",
       "      <td>...</td>\n",
       "      <td>...</td>\n",
       "      <td>...</td>\n",
       "      <td>...</td>\n",
       "      <td>...</td>\n",
       "      <td>...</td>\n",
       "      <td>...</td>\n",
       "      <td>...</td>\n",
       "      <td>...</td>\n",
       "      <td>...</td>\n",
       "      <td>...</td>\n",
       "    </tr>\n",
       "    <tr>\n",
       "      <th>36859</th>\n",
       "      <td>V. Singh</td>\n",
       "      <td>2271</td>\n",
       "      <td>392</td>\n",
       "      <td>144</td>\n",
       "      <td>146</td>\n",
       "      <td>33.0</td>\n",
       "      <td>26.4</td>\n",
       "      <td>26</td>\n",
       "      <td>0</td>\n",
       "      <td>0.6</td>\n",
       "      <td>...</td>\n",
       "      <td>6.0</td>\n",
       "      <td>2015</td>\n",
       "      <td>0</td>\n",
       "      <td>NaN</td>\n",
       "      <td>NaN</td>\n",
       "      <td>NaN</td>\n",
       "      <td>NaN</td>\n",
       "      <td>NaN</td>\n",
       "      <td>NaN</td>\n",
       "      <td>NaN</td>\n",
       "    </tr>\n",
       "    <tr>\n",
       "      <th>36860</th>\n",
       "      <td>W. Kim</td>\n",
       "      <td>2271</td>\n",
       "      <td>7082</td>\n",
       "      <td>144</td>\n",
       "      <td>150</td>\n",
       "      <td>18.5</td>\n",
       "      <td>12.9</td>\n",
       "      <td>21</td>\n",
       "      <td>0</td>\n",
       "      <td>0.2</td>\n",
       "      <td>...</td>\n",
       "      <td>6.0</td>\n",
       "      <td>2015</td>\n",
       "      <td>0</td>\n",
       "      <td>NaN</td>\n",
       "      <td>NaN</td>\n",
       "      <td>NaN</td>\n",
       "      <td>NaN</td>\n",
       "      <td>NaN</td>\n",
       "      <td>NaN</td>\n",
       "      <td>NaN</td>\n",
       "    </tr>\n",
       "    <tr>\n",
       "      <th>36861</th>\n",
       "      <td>W. McGirt</td>\n",
       "      <td>2271</td>\n",
       "      <td>3532</td>\n",
       "      <td>216</td>\n",
       "      <td>215</td>\n",
       "      <td>44.5</td>\n",
       "      <td>40.6</td>\n",
       "      <td>45</td>\n",
       "      <td>0</td>\n",
       "      <td>6.2</td>\n",
       "      <td>...</td>\n",
       "      <td>6.0</td>\n",
       "      <td>2015</td>\n",
       "      <td>0</td>\n",
       "      <td>NaN</td>\n",
       "      <td>NaN</td>\n",
       "      <td>NaN</td>\n",
       "      <td>NaN</td>\n",
       "      <td>NaN</td>\n",
       "      <td>NaN</td>\n",
       "      <td>NaN</td>\n",
       "    </tr>\n",
       "    <tr>\n",
       "      <th>36862</th>\n",
       "      <td>Z. Blair</td>\n",
       "      <td>2271</td>\n",
       "      <td>9040</td>\n",
       "      <td>288</td>\n",
       "      <td>278</td>\n",
       "      <td>73.0</td>\n",
       "      <td>70.8</td>\n",
       "      <td>74</td>\n",
       "      <td>3</td>\n",
       "      <td>23.2</td>\n",
       "      <td>...</td>\n",
       "      <td>6.0</td>\n",
       "      <td>2015</td>\n",
       "      <td>0</td>\n",
       "      <td>NaN</td>\n",
       "      <td>NaN</td>\n",
       "      <td>NaN</td>\n",
       "      <td>NaN</td>\n",
       "      <td>NaN</td>\n",
       "      <td>NaN</td>\n",
       "      <td>NaN</td>\n",
       "    </tr>\n",
       "    <tr>\n",
       "      <th>36863</th>\n",
       "      <td>Z. Sucher</td>\n",
       "      <td>2271</td>\n",
       "      <td>4708</td>\n",
       "      <td>144</td>\n",
       "      <td>147</td>\n",
       "      <td>22.5</td>\n",
       "      <td>18.9</td>\n",
       "      <td>28</td>\n",
       "      <td>0</td>\n",
       "      <td>0.0</td>\n",
       "      <td>...</td>\n",
       "      <td>6.0</td>\n",
       "      <td>2015</td>\n",
       "      <td>0</td>\n",
       "      <td>NaN</td>\n",
       "      <td>NaN</td>\n",
       "      <td>NaN</td>\n",
       "      <td>NaN</td>\n",
       "      <td>NaN</td>\n",
       "      <td>NaN</td>\n",
       "      <td>NaN</td>\n",
       "    </tr>\n",
       "  </tbody>\n",
       "</table>\n",
       "<p>36864 rows × 37 columns</p>\n",
       "</div>"
      ],
      "text/plain": [
       "      Player_initial_last  tournament id  player id  hole_par  strokes  \\\n",
       "0                A. Ancer      401353224       9261       288      289   \n",
       "1               A. Hadwin      401353224       5548       288      286   \n",
       "2               A. Lahiri      401353224       4989       144      147   \n",
       "3                 A. Long      401353224       6015       144      151   \n",
       "4                A. Noren      401353224       3832       144      148   \n",
       "...                   ...            ...        ...       ...      ...   \n",
       "36859            V. Singh           2271        392       144      146   \n",
       "36860              W. Kim           2271       7082       144      150   \n",
       "36861           W. McGirt           2271       3532       216      215   \n",
       "36862            Z. Blair           2271       9040       288      278   \n",
       "36863           Z. Sucher           2271       4708       144      147   \n",
       "\n",
       "       hole_DKP  hole_FDP  hole_SDP  streak_DKP  streak_FDP  ...  purse  \\\n",
       "0          60.0      51.1        56           3         7.6  ...   12.0   \n",
       "1          72.5      61.5        61           8        13.0  ...   12.0   \n",
       "2          21.5      17.4        27           0         0.0  ...   12.0   \n",
       "3          20.5      13.6        17           0         0.4  ...   12.0   \n",
       "4          23.5      18.1        23           0         1.2  ...   12.0   \n",
       "...         ...       ...       ...         ...         ...  ...    ...   \n",
       "36859      33.0      26.4        26           0         0.6  ...    6.0   \n",
       "36860      18.5      12.9        21           0         0.2  ...    6.0   \n",
       "36861      44.5      40.6        45           0         6.2  ...    6.0   \n",
       "36862      73.0      70.8        74           3        23.2  ...    6.0   \n",
       "36863      22.5      18.9        28           0         0.0  ...    6.0   \n",
       "\n",
       "       season  no_cut  Finish  sg_putt  sg_arg  sg_app  sg_ott  sg_t2g  \\\n",
       "0        2022       0     T32     0.20   -0.13   -0.08    0.86    0.65   \n",
       "1        2022       0     T18     0.36    0.75    0.31    0.18    1.24   \n",
       "2        2022       0     CUT    -0.56    0.74   -1.09    0.37    0.02   \n",
       "3        2022       0     CUT    -1.46   -1.86   -0.02    0.80   -1.08   \n",
       "4        2022       0     CUT     0.53   -0.36   -1.39    0.19   -1.56   \n",
       "...       ...     ...     ...      ...     ...     ...     ...     ...   \n",
       "36859    2015       0     NaN      NaN     NaN     NaN     NaN     NaN   \n",
       "36860    2015       0     NaN      NaN     NaN     NaN     NaN     NaN   \n",
       "36861    2015       0     NaN      NaN     NaN     NaN     NaN     NaN   \n",
       "36862    2015       0     NaN      NaN     NaN     NaN     NaN     NaN   \n",
       "36863    2015       0     NaN      NaN     NaN     NaN     NaN     NaN   \n",
       "\n",
       "       sg_total  \n",
       "0          0.85  \n",
       "1          1.60  \n",
       "2         -0.54  \n",
       "3         -2.54  \n",
       "4         -1.04  \n",
       "...         ...  \n",
       "36859       NaN  \n",
       "36860       NaN  \n",
       "36861       NaN  \n",
       "36862       NaN  \n",
       "36863       NaN  \n",
       "\n",
       "[36864 rows x 37 columns]"
      ]
     },
     "execution_count": 3,
     "metadata": {},
     "output_type": "execute_result"
    }
   ],
   "source": [
    "raw_file = pd.read_csv('../data/pga_2015-2022.csv')\n",
    "raw_file"
   ]
  },
  {
   "attachments": {},
   "cell_type": "markdown",
   "metadata": {},
   "source": [
    "There are 36,864 rows of data for 37 columns."
   ]
  },
  {
   "cell_type": "code",
   "execution_count": 4,
   "metadata": {},
   "outputs": [
    {
     "name": "stdout",
     "output_type": "stream",
     "text": [
      "object ['Player_initial_last', 'player', 'tournament name', 'course', 'date', 'Finish'] 6 \n",
      "\n",
      "int64 ['tournament id', 'player id', 'hole_par', 'strokes', 'hole_SDP', 'streak_DKP', 'streak_SDP', 'n_rounds', 'made_cut', 'finish_DKP', 'finish_FDP', 'finish_SDP', 'total_SDP', 'season', 'no_cut'] 15 \n",
      "\n",
      "float64 ['hole_DKP', 'hole_FDP', 'streak_FDP', 'pos', 'total_DKP', 'total_FDP', 'Unnamed: 2', 'Unnamed: 3', 'Unnamed: 4', 'purse', 'sg_putt', 'sg_arg', 'sg_app', 'sg_ott', 'sg_t2g', 'sg_total'] 16 \n",
      "\n"
     ]
    }
   ],
   "source": [
    "data_types = {}\n",
    "for colname in raw_file.columns:\n",
    "    col_dtype = raw_file[colname].dtype\n",
    "    if col_dtype in data_types.keys():\n",
    "        data_types[col_dtype].append(colname)\n",
    "    else:\n",
    "        data_types[raw_file[colname].dtype] = [colname]\n",
    "\n",
    "for dtype in data_types.keys():\n",
    "    print(dtype, data_types[dtype], len(data_types[dtype]), '\\n')"
   ]
  },
  {
   "attachments": {},
   "cell_type": "markdown",
   "metadata": {},
   "source": [
    "The dataset contains 3 data types: O (string) (6 cols), int64 (15 cols) and float64 (16 cols)\n",
    "\n",
    "Looking at the column names, there are 3 columns that spark intrigue: Unnamed: 2-4. Also, what happened to Unnamed: 1? It is likely that these columns are missing data.\n",
    "\n",
    "Let's look at the missing values for each column."
   ]
  },
  {
   "cell_type": "code",
   "execution_count": 5,
   "metadata": {},
   "outputs": [
    {
     "name": "stdout",
     "output_type": "stream",
     "text": [
      "Player_initial_last : 0 %\n",
      "tournament id : 0 %\n",
      "player id : 0 %\n",
      "hole_par : 0 %\n",
      "strokes : 0 %\n",
      "hole_DKP : 0 %\n",
      "hole_FDP : 0 %\n",
      "hole_SDP : 0 %\n",
      "streak_DKP : 0 %\n",
      "streak_FDP : 0 %\n",
      "streak_SDP : 0 %\n",
      "n_rounds : 0 %\n",
      "made_cut : 0 %\n",
      "pos : 42 %\n",
      "finish_DKP : 0 %\n",
      "finish_FDP : 0 %\n",
      "finish_SDP : 0 %\n",
      "total_DKP : 0 %\n",
      "total_FDP : 0 %\n",
      "total_SDP : 0 %\n",
      "player : 0 %\n",
      "Unnamed: 2 : 100 %\n",
      "Unnamed: 3 : 100 %\n",
      "Unnamed: 4 : 100 %\n",
      "tournament name : 0 %\n",
      "course : 0 %\n",
      "date : 0 %\n",
      "purse : 0 %\n",
      "season : 0 %\n",
      "no_cut : 0 %\n",
      "Finish : 21 %\n",
      "sg_putt : 21 %\n",
      "sg_arg : 21 %\n",
      "sg_app : 21 %\n",
      "sg_ott : 21 %\n",
      "sg_t2g : 21 %\n",
      "sg_total : 21 %\n"
     ]
    }
   ],
   "source": [
    "for colname in raw_file.columns:\n",
    "    num_null = raw_file[colname].isnull().sum()\n",
    "    print(colname, \":\", round(100*num_null/len(raw_file)), \"%\")"
   ]
  },
  {
   "attachments": {},
   "cell_type": "markdown",
   "metadata": {},
   "source": [
    "As expected, Unnamed: 2-4 feature many null value. All of them.\n",
    "\n",
    "We can also see that pos (position) is missing 42% of values. This makes sense as just less than half of players are cut from the final 2 rounds of a typical golf tournament. Similarly, it makes sense for the sg_ columns (shots gained) to be missing exactly half of this number (21%) as players who don't make cut still play half of the rounds in a tournament.\n",
    "\n",
    "All other columns have 100% present values, which is nice. Hopefully there is little cleaning of data required."
   ]
  },
  {
   "attachments": {},
   "cell_type": "markdown",
   "metadata": {},
   "source": [
    "### Cleaning the Data"
   ]
  },
  {
   "attachments": {},
   "cell_type": "markdown",
   "metadata": {},
   "source": [
    "First, we will check the unique values of the string columns. While not overly technical, I'm going to use my domain expertise (35 handicap) in combination with a quick manual check to detect any issues with these columns of data."
   ]
  },
  {
   "cell_type": "code",
   "execution_count": 6,
   "metadata": {},
   "outputs": [],
   "source": [
    "for colname in data_types[list(data_types.keys())[0]]:\n",
    "    unique_vals = raw_file[colname].unique()\n",
    "    # print(len(unique_vals), unique_vals) #Uncomment this line to see results"
   ]
  },
  {
   "attachments": {},
   "cell_type": "markdown",
   "metadata": {},
   "source": [
    "There appears to be multiple values (WD, W/D) to indicate a player has withdrawn from the tournament in the 'Finish' column. Let's make these both WD. There also is a value 'CUT', which like the missing values, represents a player not making the final two rounds of the tournament. Let's replace all missing values in this column with 'CUT', to make the data a little nicer."
   ]
  },
  {
   "cell_type": "code",
   "execution_count": 7,
   "metadata": {},
   "outputs": [
    {
     "data": {
      "text/plain": [
       "174"
      ]
     },
     "execution_count": 7,
     "metadata": {},
     "output_type": "execute_result"
    }
   ],
   "source": [
    "clean_file = raw_file.replace({'Finish': 'W/D'}, 'WD')\n",
    "clean_file = clean_file.replace({'Finish': np.NaN}, 'CUT')\n",
    "len(clean_file.Finish.unique())"
   ]
  },
  {
   "attachments": {},
   "cell_type": "markdown",
   "metadata": {},
   "source": [
    "As we can see, there are now two less unique values in the Finish column than before.\n",
    "\n",
    "Now, lets observe the integer columns."
   ]
  },
  {
   "cell_type": "code",
   "execution_count": 10,
   "metadata": {},
   "outputs": [
    {
     "data": {
      "text/plain": [
       "<Axes: xlabel='strokes', ylabel='n_rounds'>"
      ]
     },
     "execution_count": 10,
     "metadata": {},
     "output_type": "execute_result"
    },
    {
     "data": {
      "image/png": "[encoded data removed]",
      "text/plain": [
       "<Figure size 640x480 with 1 Axes>"
      ]
     },
     "metadata": {},
     "output_type": "display_data"
    }
   ],
   "source": [
    "sns.violinplot(x='strokes', y='n_rounds', data=clean_file, orient='h')"
   ]
  },
  {
   "cell_type": "code",
   "execution_count": 31,
   "metadata": {},
   "outputs": [
    {
     "data": {
      "text/plain": [
       "<Axes: xlabel='strokes', ylabel='date'>"
      ]
     },
     "execution_count": 31,
     "metadata": {},
     "output_type": "execute_result"
    },
    {
     "data": {
      "image/png": "[encoded data removed]",
      "text/plain": [
       "<Figure size 640x480 with 1 Axes>"
      ]
     },
     "metadata": {},
     "output_type": "display_data"
    }
   ],
   "source": [
    "a1 = clean_file[clean_file['tournament name'] == 'CareerBuilder Challenge']\n",
    "sns.violinplot(data=a1, x='strokes', y='date', orient='h')"
   ]
  }
 ],
 "metadata": {
  "kernelspec": {
   "display_name": "Python 3",
   "language": "python",
   "name": "python3"
  },
  "language_info": {
   "codemirror_mode": {
    "name": "ipython",
    "version": 3
   },
   "file_extension": ".py",
   "mimetype": "text/x-python",
   "name": "python",
   "nbconvert_exporter": "python",
   "pygments_lexer": "ipython3",
   "version": "3.10.10"
  },
  "orig_nbformat": 4,
  "vscode": {
   "interpreter": {
    "hash": "9550a44aef1ca025e754d258d2389ec3d5189e78405733c3c64ef2c4fedbed91"
   }
  }
 },
 "nbformat": 4,
 "nbformat_minor": 2
}
